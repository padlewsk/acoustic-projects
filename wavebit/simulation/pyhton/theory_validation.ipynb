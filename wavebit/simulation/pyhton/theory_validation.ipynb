{
 "cells": [
  {
   "cell_type": "markdown",
   "id": "49eed0c8",
   "metadata": {},
   "source": [
    "Install qiskit\n",
    "and also matplotlib and pylatexenc (for nicer circuit plots)"
   ]
  },
  {
   "cell_type": "code",
   "execution_count": null,
   "id": "42ac85bd",
   "metadata": {
    "scrolled": true
   },
   "outputs": [
    {
     "name": "stdout",
     "output_type": "stream",
     "text": [
      "Requirement already satisfied: qiskit in c:\\users\\padlewsk\\appdata\\roaming\\python\\python39\\site-packages (1.2.4)\n",
      "Requirement already satisfied: rustworkx>=0.15.0 in c:\\users\\padlewsk\\anaconda3\\lib\\site-packages (from qiskit) (0.15.1)\n",
      "Requirement already satisfied: numpy<3,>=1.17 in c:\\users\\padlewsk\\anaconda3\\lib\\site-packages (from qiskit) (1.24.3)\n",
      "Requirement already satisfied: scipy>=1.5 in c:\\users\\padlewsk\\anaconda3\\lib\\site-packages (from qiskit) (1.11.1)\n",
      "Requirement already satisfied: sympy>=1.3 in c:\\users\\padlewsk\\anaconda3\\lib\\site-packages (from qiskit) (1.11.1)\n",
      "Requirement already satisfied: dill>=0.3 in c:\\users\\padlewsk\\anaconda3\\lib\\site-packages (from qiskit) (0.3.6)\n",
      "Requirement already satisfied: python-dateutil>=2.8.0 in c:\\users\\padlewsk\\anaconda3\\lib\\site-packages (from qiskit) (2.8.2)\n",
      "Requirement already satisfied: stevedore>=3.0.0 in c:\\users\\padlewsk\\anaconda3\\lib\\site-packages (from qiskit) (5.1.0)\n",
      "Requirement already satisfied: typing-extensions in c:\\users\\padlewsk\\anaconda3\\lib\\site-packages (from qiskit) (4.7.1)\n",
      "Requirement already satisfied: symengine<0.14,>=0.11 in c:\\users\\padlewsk\\anaconda3\\lib\\site-packages (from qiskit) (0.13.0)\n",
      "Requirement already satisfied: six>=1.5 in c:\\users\\padlewsk\\anaconda3\\lib\\site-packages (from python-dateutil>=2.8.0->qiskit) (1.16.0)\n",
      "Requirement already satisfied: pbr!=2.1.0,>=2.0.0 in c:\\users\\padlewsk\\anaconda3\\lib\\site-packages (from stevedore>=3.0.0->qiskit) (5.11.1)\n",
      "Requirement already satisfied: mpmath>=0.19 in c:\\users\\padlewsk\\anaconda3\\lib\\site-packages (from sympy>=1.3->qiskit) (1.3.0)\n"
     ]
    },
    {
     "name": "stderr",
     "output_type": "stream",
     "text": [
      "WARNING: Ignoring invalid distribution -iskit-terra (c:\\users\\padlewsk\\anaconda3\\lib\\site-packages)\n",
      "WARNING: Ignoring invalid distribution -iskit-terra (c:\\users\\padlewsk\\anaconda3\\lib\\site-packages)\n",
      "WARNING: Ignoring invalid distribution -iskit-terra (c:\\users\\padlewsk\\anaconda3\\lib\\site-packages)\n",
      "ERROR: Could not find a version that satisfies the requirement qiskit_aerqiskit_ibm_provider (from versions: none)\n",
      "ERROR: No matching distribution found for qiskit_aerqiskit_ibm_provider\n"
     ]
    },
    {
     "name": "stdout",
     "output_type": "stream",
     "text": [
      "Collecting qiskit_ibm_runtime\n",
      "  Obtaining dependency information for qiskit_ibm_runtime from https://files.pythonhosted.org/packages/da/65/53d962154a36f571f552138379dd7ebddac34275606b321feda5f253e6df/qiskit_ibm_runtime-0.31.0-py3-none-any.whl.metadata\n",
      "  Downloading qiskit_ibm_runtime-0.31.0-py3-none-any.whl.metadata (19 kB)\n",
      "Requirement already satisfied: requests>=2.19 in c:\\users\\padlewsk\\anaconda3\\lib\\site-packages (from qiskit_ibm_runtime) (2.31.0)\n",
      "Collecting requests-ntlm>=1.1.0 (from qiskit_ibm_runtime)\n",
      "  Obtaining dependency information for requests-ntlm>=1.1.0 from https://files.pythonhosted.org/packages/9e/5d/836b97537a390cf811b0488490c389c5a614f0a93acb23f347bd37a2d914/requests_ntlm-1.3.0-py3-none-any.whl.metadata\n",
      "  Downloading requests_ntlm-1.3.0-py3-none-any.whl.metadata (2.4 kB)\n",
      "Requirement already satisfied: numpy>=1.13 in c:\\users\\padlewsk\\anaconda3\\lib\\site-packages (from qiskit_ibm_runtime) (1.24.3)\n",
      "Requirement already satisfied: urllib3>=1.21.1 in c:\\users\\padlewsk\\anaconda3\\lib\\site-packages (from qiskit_ibm_runtime) (1.26.16)\n",
      "Requirement already satisfied: python-dateutil>=2.8.0 in c:\\users\\padlewsk\\anaconda3\\lib\\site-packages (from qiskit_ibm_runtime) (2.8.2)\n",
      "Collecting websocket-client>=1.5.1 (from qiskit_ibm_runtime)\n",
      "  Obtaining dependency information for websocket-client>=1.5.1 from https://files.pythonhosted.org/packages/5a/84/44687a29792a70e111c5c477230a72c4b957d88d16141199bf9acb7537a3/websocket_client-1.8.0-py3-none-any.whl.metadata\n",
      "  Downloading websocket_client-1.8.0-py3-none-any.whl.metadata (8.0 kB)\n",
      "Collecting ibm-platform-services>=0.22.6 (from qiskit_ibm_runtime)\n",
      "  Obtaining dependency information for ibm-platform-services>=0.22.6 from https://files.pythonhosted.org/packages/8e/03/988c48bbb5a7dd554f14e252822b5342111ce51fb25b56f09aff33ace46c/ibm_platform_services-0.57.2-py3-none-any.whl.metadata\n",
      "  Downloading ibm_platform_services-0.57.2-py3-none-any.whl.metadata (9.1 kB)\n",
      "Collecting pydantic>=2.5.0 (from qiskit_ibm_runtime)\n",
      "  Obtaining dependency information for pydantic>=2.5.0 from https://files.pythonhosted.org/packages/df/e4/ba44652d562cbf0bf320e0f3810206149c8a4e99cdbf66da82e97ab53a15/pydantic-2.9.2-py3-none-any.whl.metadata\n",
      "  Downloading pydantic-2.9.2-py3-none-any.whl.metadata (149 kB)\n",
      "     ---------------------------------------- 0.0/149.4 kB ? eta -:--:--\n",
      "     ------------------------------------ - 143.4/149.4 kB 4.2 MB/s eta 0:00:01\n",
      "     -------------------------------------- 149.4/149.4 kB 3.0 MB/s eta 0:00:00\n",
      "Requirement already satisfied: qiskit>=1.1.0 in c:\\users\\padlewsk\\appdata\\roaming\\python\\python39\\site-packages (from qiskit_ibm_runtime) (1.2.4)\n",
      "Collecting ibm-cloud-sdk-core<4.0.0,>=3.22.0 (from ibm-platform-services>=0.22.6->qiskit_ibm_runtime)\n",
      "  Obtaining dependency information for ibm-cloud-sdk-core<4.0.0,>=3.22.0 from https://files.pythonhosted.org/packages/38/42/58a3de2e87d0a6b81278dc600d06a74f8542ad86114ad6cc61555cf00352/ibm_cloud_sdk_core-3.22.0-py3-none-any.whl.metadata\n",
      "  Downloading ibm_cloud_sdk_core-3.22.0-py3-none-any.whl.metadata (8.6 kB)\n",
      "Collecting annotated-types>=0.6.0 (from pydantic>=2.5.0->qiskit_ibm_runtime)\n",
      "  Obtaining dependency information for annotated-types>=0.6.0 from https://files.pythonhosted.org/packages/78/b6/6307fbef88d9b5ee7421e68d78a9f162e0da4900bc5f5793f6d3d0e34fb8/annotated_types-0.7.0-py3-none-any.whl.metadata\n",
      "  Downloading annotated_types-0.7.0-py3-none-any.whl.metadata (15 kB)\n",
      "Collecting pydantic-core==2.23.4 (from pydantic>=2.5.0->qiskit_ibm_runtime)\n",
      "  Obtaining dependency information for pydantic-core==2.23.4 from https://files.pythonhosted.org/packages/98/95/dd7045c4caa2b73d0bf3b989d66b23cfbb7a0ef14ce99db15677a000a953/pydantic_core-2.23.4-cp39-none-win_amd64.whl.metadata\n",
      "  Downloading pydantic_core-2.23.4-cp39-none-win_amd64.whl.metadata (6.7 kB)\n",
      "Requirement already satisfied: typing-extensions>=4.6.1 in c:\\users\\padlewsk\\anaconda3\\lib\\site-packages (from pydantic>=2.5.0->qiskit_ibm_runtime) (4.7.1)\n",
      "Requirement already satisfied: six>=1.5 in c:\\users\\padlewsk\\anaconda3\\lib\\site-packages (from python-dateutil>=2.8.0->qiskit_ibm_runtime) (1.16.0)\n",
      "Requirement already satisfied: rustworkx>=0.15.0 in c:\\users\\padlewsk\\anaconda3\\lib\\site-packages (from qiskit>=1.1.0->qiskit_ibm_runtime) (0.15.1)\n",
      "Requirement already satisfied: scipy>=1.5 in c:\\users\\padlewsk\\anaconda3\\lib\\site-packages (from qiskit>=1.1.0->qiskit_ibm_runtime) (1.11.1)\n",
      "Requirement already satisfied: sympy>=1.3 in c:\\users\\padlewsk\\anaconda3\\lib\\site-packages (from qiskit>=1.1.0->qiskit_ibm_runtime) (1.11.1)\n",
      "Requirement already satisfied: dill>=0.3 in c:\\users\\padlewsk\\anaconda3\\lib\\site-packages (from qiskit>=1.1.0->qiskit_ibm_runtime) (0.3.6)\n",
      "Requirement already satisfied: stevedore>=3.0.0 in c:\\users\\padlewsk\\anaconda3\\lib\\site-packages (from qiskit>=1.1.0->qiskit_ibm_runtime) (5.1.0)\n",
      "Requirement already satisfied: symengine<0.14,>=0.11 in c:\\users\\padlewsk\\anaconda3\\lib\\site-packages (from qiskit>=1.1.0->qiskit_ibm_runtime) (0.13.0)\n",
      "Requirement already satisfied: charset-normalizer<4,>=2 in c:\\users\\padlewsk\\anaconda3\\lib\\site-packages (from requests>=2.19->qiskit_ibm_runtime) (2.0.4)\n",
      "Requirement already satisfied: idna<4,>=2.5 in c:\\users\\padlewsk\\anaconda3\\lib\\site-packages (from requests>=2.19->qiskit_ibm_runtime) (3.4)\n",
      "Requirement already satisfied: certifi>=2017.4.17 in c:\\users\\padlewsk\\anaconda3\\lib\\site-packages (from requests>=2.19->qiskit_ibm_runtime) (2023.7.22)\n",
      "Requirement already satisfied: cryptography>=1.3 in c:\\users\\padlewsk\\anaconda3\\lib\\site-packages (from requests-ntlm>=1.1.0->qiskit_ibm_runtime) (41.0.3)\n",
      "Collecting pyspnego>=0.4.0 (from requests-ntlm>=1.1.0->qiskit_ibm_runtime)\n",
      "  Obtaining dependency information for pyspnego>=0.4.0 from https://files.pythonhosted.org/packages/43/c3/4dc3d1d029e14bf065f1df9e98e3e503e622de34706a06ab6c3731377e85/pyspnego-0.11.1-py3-none-any.whl.metadata\n",
      "  Downloading pyspnego-0.11.1-py3-none-any.whl.metadata (5.4 kB)\n",
      "Requirement already satisfied: cffi>=1.12 in c:\\users\\padlewsk\\anaconda3\\lib\\site-packages (from cryptography>=1.3->requests-ntlm>=1.1.0->qiskit_ibm_runtime) (1.15.1)\n",
      "Collecting urllib3>=1.21.1 (from qiskit_ibm_runtime)\n",
      "  Obtaining dependency information for urllib3>=1.21.1 from https://files.pythonhosted.org/packages/ce/d9/5f4c13cecde62396b0d3fe530a50ccea91e7dfc1ccf0e09c228841bb5ba8/urllib3-2.2.3-py3-none-any.whl.metadata\n",
      "  Downloading urllib3-2.2.3-py3-none-any.whl.metadata (6.5 kB)\n",
      "Collecting PyJWT<3.0.0,>=2.8.0 (from ibm-cloud-sdk-core<4.0.0,>=3.22.0->ibm-platform-services>=0.22.6->qiskit_ibm_runtime)\n",
      "  Obtaining dependency information for PyJWT<3.0.0,>=2.8.0 from https://files.pythonhosted.org/packages/79/84/0fdf9b18ba31d69877bd39c9cd6052b47f3761e9910c15de788e519f079f/PyJWT-2.9.0-py3-none-any.whl.metadata\n",
      "  Downloading PyJWT-2.9.0-py3-none-any.whl.metadata (3.0 kB)\n",
      "Collecting sspilib>=0.1.0 (from pyspnego>=0.4.0->requests-ntlm>=1.1.0->qiskit_ibm_runtime)\n",
      "  Obtaining dependency information for sspilib>=0.1.0 from https://files.pythonhosted.org/packages/54/2e/436ae383a408d715358c6f6675c7cff0fae36fdc49f95f6d271aebdf0470/sspilib-0.2.0-cp39-cp39-win_amd64.whl.metadata\n",
      "  Downloading sspilib-0.2.0-cp39-cp39-win_amd64.whl.metadata (7.5 kB)\n",
      "Requirement already satisfied: pbr!=2.1.0,>=2.0.0 in c:\\users\\padlewsk\\anaconda3\\lib\\site-packages (from stevedore>=3.0.0->qiskit>=1.1.0->qiskit_ibm_runtime) (5.11.1)\n",
      "Requirement already satisfied: mpmath>=0.19 in c:\\users\\padlewsk\\anaconda3\\lib\\site-packages (from sympy>=1.3->qiskit>=1.1.0->qiskit_ibm_runtime) (1.3.0)\n",
      "Requirement already satisfied: pycparser in c:\\users\\padlewsk\\anaconda3\\lib\\site-packages (from cffi>=1.12->cryptography>=1.3->requests-ntlm>=1.1.0->qiskit_ibm_runtime) (2.21)\n",
      "Downloading qiskit_ibm_runtime-0.31.0-py3-none-any.whl (2.9 MB)\n",
      "   ---------------------------------------- 0.0/2.9 MB ? eta -:--:--\n",
      "   ------- -------------------------------- 0.6/2.9 MB 12.2 MB/s eta 0:00:01\n",
      "   -------------- ------------------------- 1.1/2.9 MB 11.7 MB/s eta 0:00:01\n",
      "   ---------------------- ----------------- 1.7/2.9 MB 11.7 MB/s eta 0:00:01\n",
      "   ----------------------------- ---------- 2.2/2.9 MB 11.7 MB/s eta 0:00:01\n",
      "   ----------------------------------- ---- 2.6/2.9 MB 11.0 MB/s eta 0:00:01\n",
      "   ---------------------------------------- 2.9/2.9 MB 11.0 MB/s eta 0:00:00\n",
      "Downloading ibm_platform_services-0.57.2-py3-none-any.whl (343 kB)\n",
      "   ---------------------------------------- 0.0/343.3 kB ? eta -:--:--\n",
      "   ---------------------------------------- 343.3/343.3 kB 7.1 MB/s eta 0:00:00\n",
      "Downloading pydantic-2.9.2-py3-none-any.whl (434 kB)\n",
      "   ---------------------------------------- 0.0/434.9 kB ? eta -:--:--\n",
      "   ---------------------------------------- 434.9/434.9 kB 9.0 MB/s eta 0:00:00\n",
      "Downloading pydantic_core-2.23.4-cp39-none-win_amd64.whl (1.9 MB)\n",
      "   ---------------------------------------- 0.0/1.9 MB ? eta -:--:--\n",
      "   ----------- ---------------------------- 0.6/1.9 MB 12.0 MB/s eta 0:00:01\n",
      "   ----------------------- ---------------- 1.1/1.9 MB 12.0 MB/s eta 0:00:01\n",
      "   ---------------------------------- ----- 1.7/1.9 MB 11.8 MB/s eta 0:00:01\n",
      "   ---------------------------------------- 1.9/1.9 MB 11.1 MB/s eta 0:00:00\n",
      "Downloading requests_ntlm-1.3.0-py3-none-any.whl (6.6 kB)\n",
      "Downloading websocket_client-1.8.0-py3-none-any.whl (58 kB)\n",
      "   ---------------------------------------- 0.0/58.8 kB ? eta -:--:--\n",
      "   ---------------------------------------- 58.8/58.8 kB 3.0 MB/s eta 0:00:00\n",
      "Downloading annotated_types-0.7.0-py3-none-any.whl (13 kB)\n",
      "Downloading ibm_cloud_sdk_core-3.22.0-py3-none-any.whl (69 kB)\n",
      "   ---------------------------------------- 0.0/69.4 kB ? eta -:--:--\n",
      "   ---------------------------------------- 69.4/69.4 kB ? eta 0:00:00\n",
      "Downloading urllib3-2.2.3-py3-none-any.whl (126 kB)\n",
      "   ---------------------------------------- 0.0/126.3 kB ? eta -:--:--\n",
      "   ---------------------------------------- 126.3/126.3 kB 7.7 MB/s eta 0:00:00\n",
      "Downloading pyspnego-0.11.1-py3-none-any.whl (130 kB)\n",
      "   ---------------------------------------- 0.0/130.5 kB ? eta -:--:--\n",
      "   ---------------------------------------- 130.5/130.5 kB 7.5 MB/s eta 0:00:00\n",
      "Downloading PyJWT-2.9.0-py3-none-any.whl (22 kB)\n",
      "Downloading sspilib-0.2.0-cp39-cp39-win_amd64.whl (570 kB)\n",
      "   ---------------------------------------- 0.0/570.1 kB ? eta -:--:--\n",
      "   ------------------------------------ -- 532.5/570.1 kB 16.8 MB/s eta 0:00:01\n",
      "   --------------------------------------- 570.1/570.1 kB 11.9 MB/s eta 0:00:00\n",
      "Installing collected packages: websocket-client, urllib3, sspilib, PyJWT, pydantic-core, annotated-types, pydantic, pyspnego, ibm-cloud-sdk-core, requests-ntlm, ibm-platform-services, qiskit_ibm_runtime\n",
      "  Attempting uninstall: websocket-client\n",
      "    Found existing installation: websocket-client 0.58.0\n",
      "    Uninstalling websocket-client-0.58.0:\n",
      "      Successfully uninstalled websocket-client-0.58.0\n",
      "  Attempting uninstall: urllib3\n",
      "    Found existing installation: urllib3 1.26.16\n",
      "    Uninstalling urllib3-1.26.16:\n",
      "      Successfully uninstalled urllib3-1.26.16\n",
      "  Attempting uninstall: PyJWT\n",
      "    Found existing installation: PyJWT 2.4.0\n",
      "    Uninstalling PyJWT-2.4.0:\n",
      "      Successfully uninstalled PyJWT-2.4.0\n",
      "Successfully installed PyJWT-2.9.0 annotated-types-0.7.0 ibm-cloud-sdk-core-3.22.0 ibm-platform-services-0.57.2 pydantic-2.9.2 pydantic-core-2.23.4 pyspnego-0.11.1 qiskit_ibm_runtime-0.31.0 requests-ntlm-1.3.0 sspilib-0.2.0 urllib3-2.2.3 websocket-client-1.8.0\n"
     ]
    },
    {
     "name": "stderr",
     "output_type": "stream",
     "text": [
      "WARNING: Ignoring invalid distribution -iskit-terra (c:\\users\\padlewsk\\anaconda3\\lib\\site-packages)\n",
      "WARNING: Ignoring invalid distribution -iskit-terra (c:\\users\\padlewsk\\anaconda3\\lib\\site-packages)\n",
      "ERROR: pip's dependency resolver does not currently take into account all the packages that are installed. This behaviour is the source of the following dependency conflicts.\n",
      "botocore 1.29.76 requires urllib3<1.27,>=1.25.4, but you have urllib3 2.2.3 which is incompatible.\n"
     ]
    }
   ],
   "source": [
    "!pip install qiskit\n",
    "!pip install qiskit_aerqiskit_ibm_provider\n",
    "!pip install qiskit_ibm_runtime\n",
    "!pip install qiskit_ibmq_provider\n",
    "!pip install matplotlib\n",
    "!pip install pylatexenc "
   ]
  },
  {
   "cell_type": "markdown",
   "id": "40b2b86c",
   "metadata": {},
   "source": [
    "### Import Qiskit"
   ]
  },
  {
   "cell_type": "code",
   "execution_count": 2,
   "id": "68c4f81d",
   "metadata": {},
   "outputs": [
    {
     "ename": "ImportError",
     "evalue": "cannot import name 'execute' from 'qiskit' (C:\\Users\\padlewsk\\AppData\\Roaming\\Python\\Python39\\site-packages\\qiskit\\__init__.py)",
     "output_type": "error",
     "traceback": [
      "\u001b[1;31m---------------------------------------------------------------------------\u001b[0m",
      "\u001b[1;31mImportError\u001b[0m                               Traceback (most recent call last)",
      "Cell \u001b[1;32mIn[2], line 3\u001b[0m\n\u001b[0;32m      1\u001b[0m \u001b[38;5;28;01mimport\u001b[39;00m \u001b[38;5;21;01mqiskit\u001b[39;00m\n\u001b[0;32m      2\u001b[0m \u001b[38;5;28;01mimport\u001b[39;00m \u001b[38;5;21;01mnumpy\u001b[39;00m \u001b[38;5;28;01mas\u001b[39;00m \u001b[38;5;21;01mnp\u001b[39;00m\n\u001b[1;32m----> 3\u001b[0m \u001b[38;5;28;01mfrom\u001b[39;00m \u001b[38;5;21;01mqiskit\u001b[39;00m \u001b[38;5;28;01mimport\u001b[39;00m QuantumCircuit, QuantumRegister, ClassicalRegister, execute, transpile\n\u001b[0;32m      4\u001b[0m \u001b[38;5;28;01mfrom\u001b[39;00m \u001b[38;5;21;01mqiskit\u001b[39;00m\u001b[38;5;21;01m.\u001b[39;00m\u001b[38;5;21;01mproviders\u001b[39;00m\u001b[38;5;21;01m.\u001b[39;00m\u001b[38;5;21;01maer\u001b[39;00m \u001b[38;5;28;01mimport\u001b[39;00m QasmSimulator, StatevectorSimulator\n\u001b[0;32m      5\u001b[0m \u001b[38;5;28;01mfrom\u001b[39;00m \u001b[38;5;21;01mqiskit\u001b[39;00m\u001b[38;5;21;01m.\u001b[39;00m\u001b[38;5;21;01mvisualization\u001b[39;00m \u001b[38;5;28;01mimport\u001b[39;00m plot_histogram\n",
      "\u001b[1;31mImportError\u001b[0m: cannot import name 'execute' from 'qiskit' (C:\\Users\\padlewsk\\AppData\\Roaming\\Python\\Python39\\site-packages\\qiskit\\__init__.py)"
     ]
    }
   ],
   "source": [
    "import qiskit\n",
    "import numpy as np\n",
    "from qiskit import QuantumCircuit, QuantumRegister, ClassicalRegister, execute, transpile\n",
    "from qiskit.providers.aer import QasmSimulator, StatevectorSimulator\n",
    "from qiskit.visualization import plot_histogram\n"
   ]
  },
  {
   "cell_type": "markdown",
   "id": "26b3d1be",
   "metadata": {},
   "source": [
    "## Problem 1: A first quantum circuit in Qiskit"
   ]
  },
  {
   "cell_type": "markdown",
   "id": "cbaf9476",
   "metadata": {},
   "source": [
    "Initialise a simple circuit with 1 qubit and 1 classical bit for the output"
   ]
  },
  {
   "cell_type": "code",
   "execution_count": 7,
   "id": "f477c46f",
   "metadata": {},
   "outputs": [],
   "source": [
    "# Every quantum circuit is initialised with every qubit in |0> \n",
    "qc1a = QuantumCircuit(QuantumRegister(1), ClassicalRegister(1))\n",
    "# qc1a = QuantumCircuit(1,1)"
   ]
  },
  {
   "cell_type": "code",
   "execution_count": null,
   "id": "1c30c591",
   "metadata": {},
   "outputs": [],
   "source": [
    "# In Qiskit, standard gates are methods of the circuit object\n",
    "\n",
    "\n",
    "# TODO apply a single qubit gate to qubit 0\n",
    "\n",
    "qc1a.x(0)\n",
    "#qc1a.h(0)\n",
    "#qc1a.s(0)\n",
    "#qc1a.t(0)\n",
    "\n",
    "\n",
    "qc1a.measure(qubit=0, cbit=0)"
   ]
  },
  {
   "cell_type": "markdown",
   "id": "877ae6da",
   "metadata": {},
   "source": [
    "we can also draw the circuit"
   ]
  },
  {
   "cell_type": "code",
   "execution_count": null,
   "id": "22dcc067",
   "metadata": {},
   "outputs": [],
   "source": [
    "qc1a.draw('mpl')"
   ]
  },
  {
   "cell_type": "markdown",
   "id": "f1a22783",
   "metadata": {},
   "source": [
    "Finially we run the circuit on a simulator (1000 times)\n",
    "and plot the measurement results"
   ]
  },
  {
   "cell_type": "code",
   "execution_count": null,
   "id": "192ee48f",
   "metadata": {},
   "outputs": [],
   "source": [
    "simulator = QasmSimulator()\n",
    "results1a = execute(qc1a, backend=simulator, shots=1000).result()"
   ]
  },
  {
   "cell_type": "code",
   "execution_count": null,
   "id": "325552f0",
   "metadata": {},
   "outputs": [],
   "source": [
    "plot_histogram(results1a.get_counts())"
   ]
  },
  {
   "cell_type": "markdown",
   "id": "30587c57",
   "metadata": {},
   "source": [
    "#### Preparing Bell states"
   ]
  },
  {
   "cell_type": "code",
   "execution_count": null,
   "id": "e63441e7",
   "metadata": {},
   "outputs": [],
   "source": [
    "# Shortcut for QuantumCircuit(QuantumRegister(2), ClassicalRegister(2))\n",
    "qc1b = QuantumCircuit(2,2)\n",
    "\n",
    "\n",
    "# TODO prepare a Bell state\n",
    "# e.g. by doing a h gate on qubit 0 followed by a cnot on qubits 0 and 1\n",
    "\n",
    "qc1b.h(0)\n",
    "qc1b.cnot(0,1)\n",
    "\n",
    "\n",
    "qc1b.measure([0,1], [0,1])\n",
    "# Shortcut:\n",
    "#qc1b.measure_all()\n",
    "\n",
    "qc1b.draw('mpl')"
   ]
  },
  {
   "cell_type": "code",
   "execution_count": null,
   "id": "e4526562",
   "metadata": {},
   "outputs": [],
   "source": [
    "results1b = execute(qc1b, backend=simulator, shots=1000000).result()\n",
    "plot_histogram(results1b.get_counts())"
   ]
  },
  {
   "cell_type": "markdown",
   "id": "f28e4cdd",
   "metadata": {},
   "source": [
    "## Problem 2: Use different simulators in Qiskit\n",
    "\n",
    "We are going to see how the use of different simulators affects the final result"
   ]
  },
  {
   "cell_type": "code",
   "execution_count": 9,
   "id": "e6599e5a",
   "metadata": {},
   "outputs": [],
   "source": [
    "from qiskit.providers.aer import QasmSimulator, StatevectorSimulator\n",
    "from qiskit.providers.aer.noise import NoiseModel"
   ]
  },
  {
   "cell_type": "markdown",
   "id": "5d981019",
   "metadata": {},
   "source": [
    "To use the Noise Model from real quantum devices (or run circuits on real hardware)\n",
    "you can create an account on https://quantum-computing.ibm.com\n",
    "\n",
    "On the Welcome page you can find the API Token."
   ]
  },
  {
   "cell_type": "code",
   "execution_count": 10,
   "id": "01a6572e",
   "metadata": {},
   "outputs": [],
   "source": [
    "from qiskit_ibm_runtime import QiskitRuntimeService\n",
    "\n",
    "# Save your credentials on disk.\n",
    "# QiskitRuntimeService.save_account(channel='ibm_quantum', token=<IBM Quantum API key>)\n",
    "\n",
    "service = QiskitRuntimeService(\n",
    "    channel='ibm_quantum',\n",
    "    instance='ibm-q/open/main',\n",
    ")"
   ]
  },
  {
   "cell_type": "markdown",
   "id": "a5666998",
   "metadata": {},
   "source": [
    "Get the noise model for a real quantum device\n",
    "\n",
    "First print the available ones"
   ]
  },
  {
   "cell_type": "code",
   "execution_count": null,
   "id": "cf9d24f9",
   "metadata": {},
   "outputs": [],
   "source": [
    "service.backends(simulator=False)"
   ]
  },
  {
   "cell_type": "markdown",
   "id": "74232b3c",
   "metadata": {},
   "source": [
    "Choose one and get a noise model (approximately) describing it"
   ]
  },
  {
   "cell_type": "code",
   "execution_count": null,
   "id": "34b7fbbf",
   "metadata": {},
   "outputs": [],
   "source": [
    "backend = service.get_backend('ibm_perth')\n",
    "back_prop = backend.properties()\n",
    "noise_model = NoiseModel.from_backend_properties(back_prop)\n",
    "print(noise_model)"
   ]
  },
  {
   "cell_type": "markdown",
   "id": "33cdf28e",
   "metadata": {},
   "source": [
    "prepare the simulators"
   ]
  },
  {
   "cell_type": "code",
   "execution_count": 13,
   "id": "4bb1e592",
   "metadata": {},
   "outputs": [],
   "source": [
    "statevector_simulator = StatevectorSimulator()\n",
    "qasm_simulator        = QasmSimulator()\n",
    "noisy_qasm_simulator  = QasmSimulator(noise_model=noise_model)"
   ]
  },
  {
   "cell_type": "code",
   "execution_count": null,
   "id": "73212a23",
   "metadata": {},
   "outputs": [],
   "source": [
    "qc2 = QuantumCircuit(4)\n",
    "\n",
    "\n",
    "# TODO implement a circuit that prepares 1/√2 (|0000⟩ + |1111⟩)\n",
    "\n",
    "qc2.h(0)\n",
    "qc2.cnot(0,1)\n",
    "qc2.cnot(0,2)\n",
    "qc2.cnot(0,3)\n",
    "\n",
    "\n",
    "qc2.draw('mpl')"
   ]
  },
  {
   "cell_type": "markdown",
   "id": "b6e7a22e",
   "metadata": {},
   "source": [
    "If we use the statevector_simulator we can directly extract the coefficients in the computational basis:"
   ]
  },
  {
   "cell_type": "code",
   "execution_count": null,
   "id": "4add115b",
   "metadata": {},
   "outputs": [],
   "source": [
    "# Statevector simulator is the exact state at the end of the circuit, then shots=1 by default\n",
    "results2 = execute(qc2, backend=statevector_simulator).result()\n",
    "results2.get_statevector()"
   ]
  },
  {
   "cell_type": "markdown",
   "id": "90152bf1",
   "metadata": {},
   "source": [
    "As we can see, we obtain the vector describing the state of the quantum computer.\n",
    "\n",
    "Now we add the missing measurements of the end of the circuit"
   ]
  },
  {
   "cell_type": "code",
   "execution_count": null,
   "id": "c09441fb",
   "metadata": {},
   "outputs": [],
   "source": [
    "qc2.measure_all()\n",
    "qc2.draw('mpl')"
   ]
  },
  {
   "cell_type": "code",
   "execution_count": 17,
   "id": "5bf835c0",
   "metadata": {},
   "outputs": [],
   "source": [
    "results2 = execute(qc2, backend=qasm_simulator, shots=1000).result()"
   ]
  },
  {
   "cell_type": "markdown",
   "id": "5a63a0f6",
   "metadata": {},
   "source": [
    "plot the result of 1000 runs"
   ]
  },
  {
   "cell_type": "code",
   "execution_count": null,
   "id": "6f6afbfe",
   "metadata": {},
   "outputs": [],
   "source": [
    "plot_histogram(results2.get_counts())"
   ]
  },
  {
   "cell_type": "markdown",
   "id": "1c272b03",
   "metadata": {},
   "source": [
    "and finally we run it using the simulated noise model from the device we selected"
   ]
  },
  {
   "cell_type": "code",
   "execution_count": null,
   "id": "6b3b0d3e",
   "metadata": {},
   "outputs": [],
   "source": [
    "results2 = execute(qc2, backend=noisy_qasm_simulator, shots=1000).result()\n",
    "plot_histogram(results2.get_counts())"
   ]
  },
  {
   "cell_type": "markdown",
   "id": "94560f07",
   "metadata": {},
   "source": [
    "## Problem 3: Transpile a quantum Circuit"
   ]
  },
  {
   "cell_type": "code",
   "execution_count": 20,
   "id": "8051570c",
   "metadata": {},
   "outputs": [],
   "source": [
    "from qiskit.compiler import transpile"
   ]
  },
  {
   "cell_type": "markdown",
   "id": "1f7bebfd",
   "metadata": {},
   "source": [
    "First we select a backend (in this case a real device) to transpile for"
   ]
  },
  {
   "cell_type": "code",
   "execution_count": 21,
   "id": "c373b540",
   "metadata": {},
   "outputs": [],
   "source": [
    "from qiskit.providers.fake_provider import FakePerth\n",
    "\n",
    "fake_hardware_backend = FakePerth()\n",
    "hardware_backend = service.get_backend(\"ibm_perth\")"
   ]
  },
  {
   "cell_type": "markdown",
   "id": "499b327e",
   "metadata": {},
   "source": [
    "You can look at the different devices in the IBM Quantum portal"
   ]
  },
  {
   "cell_type": "code",
   "execution_count": null,
   "id": "70877dea",
   "metadata": {},
   "outputs": [],
   "source": [
    "qc3 = QuantumCircuit(5)\n",
    "\n",
    "\n",
    "# TODO implement a cirquit of your choice using 5 qubits\n",
    "\n",
    "thetas = [0.1, 0.2, 0.3, 0.4, 0.5]\n",
    "\n",
    "for i,theta  in enumerate(thetas):\n",
    "    qc3.ry(theta, i)\n",
    "qc3.cnot(0,1)\n",
    "qc3.cnot(0,2)\n",
    "qc3.cnot(0,3)\n",
    "qc3.cnot(0,4)\n",
    "\n",
    "qc3.barrier() # to put a barrier in the circuit for visualisation purposes\n",
    "for i in range(5):\n",
    "    qc3.h(i)\n",
    "\n",
    "\n",
    "qc3.measure_all()\n",
    "qc3.draw('mpl')"
   ]
  },
  {
   "cell_type": "markdown",
   "id": "a2f9daa6",
   "metadata": {},
   "source": [
    "then we transpile the circuit for the selected backend"
   ]
  },
  {
   "cell_type": "code",
   "execution_count": null,
   "id": "102b1556",
   "metadata": {},
   "outputs": [],
   "source": [
    "transpiled_qc3 = transpile(qc3, backend = hardware_backend)\n",
    "transpiled_qc3.draw('mpl')"
   ]
  },
  {
   "cell_type": "markdown",
   "id": "ffc2dd7f",
   "metadata": {},
   "source": [
    "As you can see, transpilation greatly extend the depth of your circuit. You can use the options in the transpile function to reduce the depth of the transpiled circuit."
   ]
  },
  {
   "cell_type": "markdown",
   "id": "d9f360f7",
   "metadata": {},
   "source": [
    "## Problem 4:  Quantum Fourier Transform"
   ]
  },
  {
   "cell_type": "code",
   "execution_count": 24,
   "id": "71652019",
   "metadata": {},
   "outputs": [],
   "source": [
    "from qiskit.circuit.library import SGate, TGate\n",
    "CS = SGate().control()\n",
    "CT = TGate().control()"
   ]
  },
  {
   "cell_type": "code",
   "execution_count": 25,
   "id": "d8eaec13",
   "metadata": {},
   "outputs": [],
   "source": [
    "def qft(qc):\n",
    "    # TODO implement the QFT for 3 qubits\n",
    "    qc.h(0)\n",
    "    qc.append(CS, [1,0])\n",
    "    qc.append(CT, [2,0])\n",
    "    qc.h(1)\n",
    "    qc.append(CS, [2,1])\n",
    "    qc.h(2)\n",
    "    qc.swap(0,2)\n",
    "\n",
    "    \n",
    "def initialize(qc):\n",
    "    # TODO initialize to states different from |000⟩ here\n",
    "    qc.h(0)\n",
    "    qc.x(1)\n",
    "    qc.h(2)"
   ]
  },
  {
   "cell_type": "code",
   "execution_count": 26,
   "id": "1b3e0c27",
   "metadata": {},
   "outputs": [],
   "source": [
    "# HINT:\n",
    "\n",
    "# you can use\n",
    "\n",
    "#from qiskit.circuit.library import SGate, TGate\n",
    "#CS = SGate().control()\n",
    "#CT = TGate().control()\n",
    "#qc.append(CS, [control,target])\n",
    "#qc.append(CT, [control,target])\n",
    "\n",
    "# or a controlled phase gate specifying the angles for S and T in terms of π\n",
    "\n",
    "# from math import pi\n",
    "# qc.cp(angle, control, target)"
   ]
  },
  {
   "cell_type": "code",
   "execution_count": null,
   "id": "87f7979a",
   "metadata": {},
   "outputs": [],
   "source": [
    "qc4 = QuantumCircuit(3)\n",
    "\n",
    "initialize(qc4)\n",
    "qft(qc4)\n",
    "qc4.measure_all()\n",
    "\n",
    "qc4.draw(output='mpl')"
   ]
  },
  {
   "cell_type": "code",
   "execution_count": null,
   "id": "1782d64f",
   "metadata": {},
   "outputs": [],
   "source": [
    "results4 = execute(qc4, backend=simulator, shots=1000).result()\n",
    "plot_histogram(results4.get_counts())"
   ]
  },
  {
   "cell_type": "code",
   "execution_count": 29,
   "id": "c39473ae",
   "metadata": {},
   "outputs": [],
   "source": [
    "# TODO also run the qft cirquit with a noise model like in Problem 3 and plot the results"
   ]
  },
  {
   "cell_type": "code",
   "execution_count": null,
   "id": "426c3593-7019-46ca-b41c-d9c548388e37",
   "metadata": {},
   "outputs": [],
   "source": [
    "results5 = execute(qc4, backend=noisy_qasm_simulator, shots=1000).result()\n",
    "plot_histogram(results5.get_counts())"
   ]
  }
 ],
 "metadata": {
  "jupytext": {
   "formats": "ipynb,md"
  },
  "kernelspec": {
   "display_name": "base",
   "language": "python",
   "name": "python3"
  },
  "language_info": {
   "codemirror_mode": {
    "name": "ipython",
    "version": 3
   },
   "file_extension": ".py",
   "mimetype": "text/x-python",
   "name": "python",
   "nbconvert_exporter": "python",
   "pygments_lexer": "ipython3",
   "version": "3.9.18"
  }
 },
 "nbformat": 4,
 "nbformat_minor": 5
}
